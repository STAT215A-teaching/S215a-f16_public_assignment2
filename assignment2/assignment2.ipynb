{
 "cells": [
  {
   "cell_type": "markdown",
   "metadata": {
    "deletable": false,
    "nbgrader": {
     "checksum": "6b95c3eb1a92eb130eb47fbaa31d57db",
     "grade": false,
     "grade_id": "title",
     "locked": true,
     "solution": false
    }
   },
   "source": [
    "## Assignment 2 (Due 23 September 2016 by 11:59pm)"
   ]
  },
  {
   "cell_type": "markdown",
   "metadata": {
    "deletable": false,
    "nbgrader": {
     "checksum": "fc6a9a1904363a2f1d44af9d3ed7f96f",
     "grade": false,
     "grade_id": "part_a",
     "locked": true,
     "solution": false
    }
   },
   "source": [
    "---\n",
    "## Part a: p value (10 points)"
   ]
  },
  {
   "cell_type": "markdown",
   "metadata": {
    "deletable": false,
    "nbgrader": {
     "checksum": "2a0ac73c4b39f6d63dc98d10e90930c1",
     "grade": false,
     "grade_id": "a_1",
     "locked": true,
     "solution": false
    }
   },
   "source": [
    "**1. **True or false, and explain:  A $p$-value\n",
    "   * a. is the chance the null hypothesis is true\n",
    "   * b. is the probability of observing the data by chance alone\n",
    "   * c. is computed by assuming that the null hypothesis is true\n",
    "   * d. is the conditional probability that the null hypothesis is true, given the data\n",
    "   * e. is the chance that the experiment will give the same results in a new trial\n",
    "   * f. depends on the alternative hypothesis"
   ]
  },
  {
   "cell_type": "markdown",
   "metadata": {
    "deletable": false,
    "nbgrader": {
     "checksum": "13f27d36469ddc4e4c18a09d25271858",
     "grade": true,
     "grade_id": "a_1_sol",
     "locked": false,
     "points": 1,
     "solution": true
    }
   },
   "source": [
    "YOUR ANSWER HERE"
   ]
  },
  {
   "cell_type": "markdown",
   "metadata": {
    "deletable": false,
    "nbgrader": {
     "checksum": "806e05a2ff0860835788a752956af108",
     "grade": false,
     "grade_id": "a_2",
     "locked": true,
     "solution": false
    }
   },
   "source": [
    "**2.** True or false, and explain:  If the $p$-value is small,\n",
    "   * a. the null hypothesis is false\n",
    "   * b. the null hypothesis is probably false\n",
    "   * c. the alternative hypothesis is true\n",
    "   * d. the alternative hypothesis is probably true\n",
    "   * e. there is an effect\n",
    "   * f. there is not an effect\n",
    "   * g. the effect is large enough to matter\n",
    "   * h. the effect is probably large enough to matter\n",
    "   * i. either the null hypothesis is false, or an event with probability not greater than the $p$-value occurred"
   ]
  },
  {
   "cell_type": "markdown",
   "metadata": {
    "deletable": false,
    "nbgrader": {
     "checksum": "5c643c4d33de195a18914ce4c32d9785",
     "grade": true,
     "grade_id": "a_2_sol",
     "locked": false,
     "points": 1,
     "solution": true
    }
   },
   "source": [
    "YOUR ANSWER HERE"
   ]
  },
  {
   "cell_type": "markdown",
   "metadata": {
    "deletable": false,
    "nbgrader": {
     "checksum": "5039fd67b445f024a56ec0810844aaeb",
     "grade": false,
     "grade_id": "a_3",
     "locked": true,
     "solution": false
    }
   },
   "source": [
    "**3.** Explain the difference between $p$-value, significance level, confidence level, and power."
   ]
  },
  {
   "cell_type": "markdown",
   "metadata": {
    "deletable": false,
    "nbgrader": {
     "checksum": "394b9f8829a3fc9d27d6acfdbf6af46c",
     "grade": true,
     "grade_id": "a_3_sol",
     "locked": false,
     "points": 1,
     "solution": true
    }
   },
   "source": [
    "YOUR ANSWER HERE"
   ]
  },
  {
   "cell_type": "markdown",
   "metadata": {
    "deletable": false,
    "nbgrader": {
     "checksum": "bac93a4ce24bad0b43e9d55d9ec2ce9e",
     "grade": false,
     "grade_id": "a_4",
     "locked": true,
     "solution": false
    }
   },
   "source": [
    "**4.** We propose to test whether a coin is fair using the number of times it lands\n",
    "\"heads\" in 100 independent tosses.\n",
    "The alternative hypothesis is that the chance the coin lands heads is greater than 50%.\n",
    "   * a. To test at significance level $\\alpha = 0.05$, when should we reject the null hypothesis?\n",
    "   * b. Using the previous answer as the threshold for the test, what is the power of the\n",
    "test against the alternative hypothesis that the chance the coin lands heads is 52%?"
   ]
  },
  {
   "cell_type": "markdown",
   "metadata": {
    "deletable": false,
    "nbgrader": {
     "checksum": "01d09420ee90d9119d1ec9ab254ebe8c",
     "grade": true,
     "grade_id": "a_4_sol",
     "locked": false,
     "points": 1,
     "solution": true
    }
   },
   "source": [
    "YOUR ANSWER HERE"
   ]
  },
  {
   "cell_type": "markdown",
   "metadata": {
    "deletable": false,
    "nbgrader": {
     "checksum": "37b4d19e0ea8c734443226131eef0f4e",
     "grade": false,
     "grade_id": "a_5",
     "locked": true,
     "solution": false
    }
   },
   "source": [
    "**5.** Implement from scratch in Python a two-sample permutation test using the mean as the test statistic. \n",
    "* The test should have options for the alternative: left, right, two-sided.\n",
    "* It should estimate the $p$-value by simulation; the number of replications should be an argument.\n",
    "* Include unit tests of your code. \n",
    "* One unit test should be based on an analytical calculation using the hypergeometric distribution\n",
    "\n",
    "What is the null hypothesis of the test? What alternatives would you expect it to have the most power against?"
   ]
  },
  {
   "cell_type": "markdown",
   "metadata": {
    "deletable": false,
    "nbgrader": {
     "checksum": "3ebdd7919e45a49f5ca3dc8f5e22910c",
     "grade": true,
     "grade_id": "a_5_sol",
     "locked": false,
     "points": 1,
     "solution": true
    }
   },
   "source": [
    "YOUR ANSWER HERE"
   ]
  },
  {
   "cell_type": "code",
   "execution_count": null,
   "metadata": {
    "collapsed": true,
    "deletable": false,
    "nbgrader": {
     "checksum": "6c723fd4ce42cea527b397f4c058aa5a",
     "grade": true,
     "grade_id": "a_5_sol2",
     "locked": false,
     "points": 1,
     "solution": true
    }
   },
   "outputs": [],
   "source": [
    "import numpy as np\n",
    "def my_perm_test(X, Y, B, alternative='left'):\n",
    "    \"\"\"two-sample permutation test using the mean as the test statistic\n",
    "\n",
    "    Args:\n",
    "        X: 1D numpy array of sample one\n",
    "        Y: 1D numpy array of sample two\n",
    "        B: number of replications\n",
    "        alternative: 'left', 'right' or 'two-sided'.\n",
    "\n",
    "    Returns:\n",
    "        p-value\n",
    "    \"\"\"\n",
    "    # YOUR CODE HERE\n",
    "    raise NotImplementedError()\n",
    "    return p"
   ]
  },
  {
   "cell_type": "code",
   "execution_count": null,
   "metadata": {
    "collapsed": false,
    "deletable": false,
    "nbgrader": {
     "checksum": "86c92798be14642875b4ff606715d492",
     "grade": true,
     "grade_id": "a_5_sol3",
     "locked": false,
     "points": 1,
     "solution": true
    }
   },
   "outputs": [],
   "source": [
    "def test_simple():\n",
    "    \"\"\" any test\n",
    "    \"\"\"\n",
    "    # YOUR CODE HERE\n",
    "    raise NotImplementedError()\n",
    "    \n",
    "from scipy.stats import hypergeom\n",
    "def test_hypergeometric():\n",
    "    \"\"\" test that compares theoretical p value calculated \n",
    "    with hypergeometric distribution with the simulated p value\n",
    "    \"\"\"\n",
    "    # YOUR CODE HERE\n",
    "    raise NotImplementedError()\n",
    "    assert np.abs(theory_p - sim_p) < 0.01\n",
    "\n",
    "test_simple()\n",
    "test_hypergeometric()"
   ]
  },
  {
   "cell_type": "markdown",
   "metadata": {
    "deletable": false,
    "nbgrader": {
     "checksum": "f8308268913ed7ab7fa401a5a41f1e51",
     "grade": false,
     "grade_id": "a_6",
     "locked": true,
     "solution": false
    }
   },
   "source": [
    "**6.** What is the null hypothesis of the standard $t$-test? What alternatives\n",
    "is it designed to have the most power against?"
   ]
  },
  {
   "cell_type": "markdown",
   "metadata": {
    "deletable": false,
    "nbgrader": {
     "checksum": "98f562dda46cc9f6db0022765b7f9b5e",
     "grade": true,
     "grade_id": "a_6_sol",
     "locked": false,
     "points": 1,
     "solution": true
    }
   },
   "source": [
    "YOUR ANSWER HERE"
   ]
  },
  {
   "cell_type": "markdown",
   "metadata": {
    "deletable": false,
    "nbgrader": {
     "checksum": "84e4a51014b2e64c6b6c6d6e6d53d195",
     "grade": false,
     "grade_id": "a_7",
     "locked": true,
     "solution": false
    }
   },
   "source": [
    "**7.**  \n",
    "* Give an example of a population of size $N=10$ for which, when the population is split randomly into two pieces of size $n=m=5$, the nominal $p$-value of the parametric two-sided $t$-test is systematically too small. Confirm this either through calculation (preferred) or by simulation. If you establish it by simulation, use at least $10^4$ iterations. \n",
    "* Explain heuristically why the level of the parametric test is wrong."
   ]
  },
  {
   "cell_type": "markdown",
   "metadata": {
    "deletable": false,
    "nbgrader": {
     "checksum": "0535295d1aaea4a982415808974fa363",
     "grade": true,
     "grade_id": "a_7_sol",
     "locked": false,
     "points": 1,
     "solution": true
    }
   },
   "source": [
    "YOUR ANSWER HERE"
   ]
  },
  {
   "cell_type": "code",
   "execution_count": null,
   "metadata": {
    "collapsed": false,
    "deletable": false,
    "nbgrader": {
     "checksum": "f1d909ce7af6b77c9a1c039d5747a147",
     "grade": true,
     "grade_id": "a_7_sol2",
     "locked": false,
     "points": 1,
     "solution": true
    }
   },
   "outputs": [],
   "source": [
    "# YOUR CODE HERE\n",
    "raise NotImplementedError()"
   ]
  },
  {
   "cell_type": "markdown",
   "metadata": {
    "deletable": false,
    "nbgrader": {
     "checksum": "7c217e4ec3fc850ee11fcb5e0fda0f13",
     "grade": false,
     "grade_id": "part_b",
     "locked": true,
     "solution": false
    }
   },
   "source": [
    "---\n",
    "## Part b (11 points)\n",
    "Read SMTP, Chapter 7; Freedman, SMCI, Chapters 12, 13.\n",
    "\n",
    "Freedman, SMTP, problems 7.B.2, 7.B.3, 7.C.5, 7.D.7, 7.E.2, 7.E.3, \n",
    "7.E.10, 7.5.2, 7.5.3, 7.5.4, 7.5.5"
   ]
  },
  {
   "cell_type": "markdown",
   "metadata": {
    "deletable": false,
    "nbgrader": {
     "checksum": "c4b892dd049f0dd059f1221a90665c46",
     "grade": false,
     "grade_id": "b_7b2",
     "locked": true,
     "points": 2,
     "solution": false
    }
   },
   "source": [
    "**7.B.2** "
   ]
  },
  {
   "cell_type": "markdown",
   "metadata": {
    "deletable": false,
    "nbgrader": {
     "checksum": "afa0140525438f0cfb6a32787ae5aae0",
     "grade": true,
     "grade_id": "b_7b2_sol",
     "locked": false,
     "points": 1,
     "solution": true
    }
   },
   "source": [
    "YOUR ANSWER HERE"
   ]
  },
  {
   "cell_type": "markdown",
   "metadata": {
    "deletable": false,
    "nbgrader": {
     "checksum": "bcbac1327bb01ab53a63b55b39ebc4fb",
     "grade": false,
     "grade_id": "b_7b3",
     "locked": true,
     "points": 2,
     "solution": false
    }
   },
   "source": [
    "**7.B.3** "
   ]
  },
  {
   "cell_type": "markdown",
   "metadata": {
    "deletable": false,
    "nbgrader": {
     "checksum": "f479ed10229e980dfe8c87697a7a98a5",
     "grade": true,
     "grade_id": "b_7b3_sol",
     "locked": false,
     "points": 1,
     "solution": true
    }
   },
   "source": [
    "YOUR ANSWER HERE"
   ]
  },
  {
   "cell_type": "markdown",
   "metadata": {
    "deletable": false,
    "nbgrader": {
     "checksum": "13ff2987cc01b77f905b4d60d063c2f7",
     "grade": false,
     "grade_id": "b_7c5",
     "locked": true,
     "points": 2,
     "solution": false
    }
   },
   "source": [
    "**7.C.5** "
   ]
  },
  {
   "cell_type": "markdown",
   "metadata": {
    "deletable": false,
    "nbgrader": {
     "checksum": "3d555a3cf6aee5484df18cb1cb2799e4",
     "grade": true,
     "grade_id": "b_7c5_sol",
     "locked": false,
     "points": 1,
     "solution": true
    }
   },
   "source": [
    "YOUR ANSWER HERE"
   ]
  },
  {
   "cell_type": "markdown",
   "metadata": {
    "deletable": false,
    "nbgrader": {
     "checksum": "cc9958063ad964bee7f8d86afb43a5b9",
     "grade": false,
     "grade_id": "b_7c7",
     "locked": true,
     "points": 2,
     "solution": false
    }
   },
   "source": [
    "**7.C.7** "
   ]
  },
  {
   "cell_type": "markdown",
   "metadata": {
    "deletable": false,
    "nbgrader": {
     "checksum": "37415c8bb72fdb08ae526c512ee85f57",
     "grade": true,
     "grade_id": "b_7c7_sol",
     "locked": false,
     "points": 1,
     "solution": true
    }
   },
   "source": [
    "YOUR ANSWER HERE"
   ]
  },
  {
   "cell_type": "markdown",
   "metadata": {
    "deletable": false,
    "nbgrader": {
     "checksum": "14bdde8f74feb88d446384dd6fe76b7f",
     "grade": false,
     "grade_id": "b_7e2",
     "locked": true,
     "points": 2,
     "solution": false
    }
   },
   "source": [
    "**7.E.2** "
   ]
  },
  {
   "cell_type": "markdown",
   "metadata": {
    "deletable": false,
    "nbgrader": {
     "checksum": "9d90a9cdce6f43c2bbb670775cd03119",
     "grade": true,
     "grade_id": "b_7e2_sol",
     "locked": false,
     "points": 1,
     "solution": true
    }
   },
   "source": [
    "YOUR ANSWER HERE"
   ]
  },
  {
   "cell_type": "markdown",
   "metadata": {
    "deletable": false,
    "nbgrader": {
     "checksum": "f2b0813a082211644eee880326d6b5ba",
     "grade": false,
     "grade_id": "b_7e3",
     "locked": true,
     "points": 2,
     "solution": false
    }
   },
   "source": [
    "**7.E.3** "
   ]
  },
  {
   "cell_type": "markdown",
   "metadata": {
    "deletable": false,
    "nbgrader": {
     "checksum": "525c36d5165e8ab1cffb0cf7b3fb3376",
     "grade": true,
     "grade_id": "b_7e3_sol",
     "locked": false,
     "points": 1,
     "solution": true
    }
   },
   "source": [
    "YOUR ANSWER HERE"
   ]
  },
  {
   "cell_type": "markdown",
   "metadata": {
    "deletable": false,
    "nbgrader": {
     "checksum": "d8eb51d18e480beff9c5b94570a81ac3",
     "grade": false,
     "grade_id": "b_7e10",
     "locked": true,
     "points": 2,
     "solution": false
    }
   },
   "source": [
    "**7.E.10** "
   ]
  },
  {
   "cell_type": "markdown",
   "metadata": {
    "deletable": false,
    "nbgrader": {
     "checksum": "dc6712d4b44d6e7208944ccedf3515e5",
     "grade": true,
     "grade_id": "b_7e10_sol",
     "locked": false,
     "points": 1,
     "solution": true
    }
   },
   "source": [
    "YOUR ANSWER HERE"
   ]
  },
  {
   "cell_type": "markdown",
   "metadata": {
    "deletable": false,
    "nbgrader": {
     "checksum": "07416cd7948725a453ba8d4921eed2cf",
     "grade": false,
     "grade_id": "b_752",
     "locked": true,
     "points": 2,
     "solution": false
    }
   },
   "source": [
    "**7.5.2** "
   ]
  },
  {
   "cell_type": "markdown",
   "metadata": {
    "deletable": false,
    "nbgrader": {
     "checksum": "c52e72c8408ab22e9e0d850eed74aae0",
     "grade": true,
     "grade_id": "b_752_sol",
     "locked": false,
     "points": 1,
     "solution": true
    }
   },
   "source": [
    "YOUR ANSWER HERE"
   ]
  },
  {
   "cell_type": "markdown",
   "metadata": {
    "deletable": false,
    "nbgrader": {
     "checksum": "faf544e38878465eb5eea193f3a5c8a2",
     "grade": false,
     "grade_id": "b_753",
     "locked": true,
     "points": 2,
     "solution": false
    }
   },
   "source": [
    "**7.5.3** "
   ]
  },
  {
   "cell_type": "markdown",
   "metadata": {
    "deletable": false,
    "nbgrader": {
     "checksum": "1b63b987041777f5743efea7157543ce",
     "grade": true,
     "grade_id": "b_753_sol",
     "locked": false,
     "points": 1,
     "solution": true
    }
   },
   "source": [
    "YOUR ANSWER HERE"
   ]
  },
  {
   "cell_type": "markdown",
   "metadata": {
    "deletable": false,
    "nbgrader": {
     "checksum": "6484273cdc04447e2f56606f20f0ae2c",
     "grade": false,
     "grade_id": "b_754",
     "locked": true,
     "points": 2,
     "solution": false
    }
   },
   "source": [
    "**7.5.4** "
   ]
  },
  {
   "cell_type": "markdown",
   "metadata": {
    "deletable": false,
    "nbgrader": {
     "checksum": "a812615596ffc0d84c6465bb767f298c",
     "grade": true,
     "grade_id": "b_754_sol",
     "locked": false,
     "points": 1,
     "solution": true
    }
   },
   "source": [
    "YOUR ANSWER HERE"
   ]
  },
  {
   "cell_type": "markdown",
   "metadata": {
    "deletable": false,
    "nbgrader": {
     "checksum": "7cac615cbac2d1b7ef8378ec48b617da",
     "grade": false,
     "grade_id": "b_755",
     "locked": true,
     "points": 2,
     "solution": false
    }
   },
   "source": [
    "**7.5.5** "
   ]
  },
  {
   "cell_type": "markdown",
   "metadata": {
    "collapsed": true,
    "deletable": false,
    "nbgrader": {
     "checksum": "aed3bcc85a398a276fa02498f45d4fe6",
     "grade": true,
     "grade_id": "b_755_sol",
     "locked": false,
     "points": 1,
     "solution": true
    }
   },
   "source": [
    "YOUR ANSWER HERE"
   ]
  }
 ],
 "metadata": {
  "anaconda-cloud": {},
  "kernelspec": {
   "display_name": "Python [default]",
   "language": "python",
   "name": "python2"
  },
  "language_info": {
   "codemirror_mode": {
    "name": "ipython",
    "version": 2
   },
   "file_extension": ".py",
   "mimetype": "text/x-python",
   "name": "python",
   "nbconvert_exporter": "python",
   "pygments_lexer": "ipython2",
   "version": "2.7.11"
  }
 },
 "nbformat": 4,
 "nbformat_minor": 0
}
